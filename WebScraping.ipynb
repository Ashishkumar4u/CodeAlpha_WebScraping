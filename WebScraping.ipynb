{
 "cells": [
  {
   "cell_type": "code",
   "execution_count": 2,
   "id": "fd7042d4-d6f0-468d-847e-f273999cffba",
   "metadata": {},
   "outputs": [
    {
     "name": "stdout",
     "output_type": "stream",
     "text": [
      "✅ Scraping Completed. Total Records: 1000\n"
     ]
    }
   ],
   "source": [
    "import requests\n",
    "from bs4 import BeautifulSoup\n",
    "import pandas as pd\n",
    "\n",
    "# Base URL\n",
    "base_url = \"http://books.toscrape.com/catalogue/page-{}.html\"\n",
    "\n",
    "titles = []\n",
    "prices = []\n",
    "ratings = []\n",
    "availability = []\n",
    "\n",
    "# Scrape 50 pages (20 books per page → 1000 books total)\n",
    "for page in range(1, 51):\n",
    "    url = base_url.format(page)\n",
    "    response = requests.get(url)\n",
    "    soup = BeautifulSoup(response.text, \"html.parser\")\n",
    "    \n",
    "    books = soup.find_all(\"article\", class_=\"product_pod\")\n",
    "    \n",
    "    for book in books:\n",
    "        # Title\n",
    "        title = book.h3.a[\"title\"]\n",
    "        titles.append(title)\n",
    "        \n",
    "        # Price\n",
    "        price = book.find(\"p\", class_=\"price_color\").text\n",
    "        prices.append(price)\n",
    "        \n",
    "        # Rating\n",
    "        rating = book.p[\"class\"][1]\n",
    "        ratings.append(rating)\n",
    "        \n",
    "        # Availability\n",
    "        stock = book.find(\"p\", class_=\"instock availability\").text.strip()\n",
    "        availability.append(stock)\n",
    "\n",
    "# Save into DataFrame\n",
    "df = pd.DataFrame({\n",
    "    \"Title\": titles,\n",
    "    \"Price\": prices,\n",
    "    \"Rating\": ratings,\n",
    "    \"Availability\": availability\n",
    "})\n",
    "\n",
    "# Save to CSV\n",
    "df.to_csv(\"CodeAlpha_WebScraping_Books.csv\", index=False)\n",
    "\n",
    "print(\"✅ Scraping Completed. Total Records:\", len(df))\n"
   ]
  },
  {
   "cell_type": "code",
   "execution_count": null,
   "id": "ebc37fad-dbe7-449f-98ea-86a5a92ce978",
   "metadata": {},
   "outputs": [],
   "source": []
  }
 ],
 "metadata": {
  "kernelspec": {
   "display_name": "Python 3 (ipykernel)",
   "language": "python",
   "name": "python3"
  },
  "language_info": {
   "codemirror_mode": {
    "name": "ipython",
    "version": 3
   },
   "file_extension": ".py",
   "mimetype": "text/x-python",
   "name": "python",
   "nbconvert_exporter": "python",
   "pygments_lexer": "ipython3",
   "version": "3.12.10"
  }
 },
 "nbformat": 4,
 "nbformat_minor": 5
}
